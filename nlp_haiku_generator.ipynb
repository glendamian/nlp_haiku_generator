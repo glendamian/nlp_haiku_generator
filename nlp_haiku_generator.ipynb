{
 "cells": [
  {
   "cell_type": "markdown",
   "id": "098d1fd6",
   "metadata": {},
   "source": [
    "# DS 4400 Final Project : Haiku Generator\n",
    "\n",
    "#### Ben Tunney, Glen Damian Lim\n",
    "\n",
    "#### Datasets : https://www.kaggle.com/datasets/hjhalani30/haiku-dataset (English haikus)\n",
    "\n",
    "#### Word Embeddings: GloVe from https://nlp.stanford.edu/projects/glove/ (choose Wikipedia 2014 + Gigaword 5)\n",
    "\n",
    "#### NLP models: N-gram Language Model, Recurrent Neural Network, Transformers"
   ]
  },
  {
   "cell_type": "code",
   "execution_count": 1,
   "id": "1620bfc0",
   "metadata": {},
   "outputs": [
    {
     "name": "stderr",
     "output_type": "stream",
     "text": [
      "2023-04-17 23:14:06.588359: I tensorflow/core/platform/cpu_feature_guard.cc:182] This TensorFlow binary is optimized to use available CPU instructions in performance-critical operations.\n",
      "To enable the following instructions: SSE4.1 SSE4.2, in other operations, rebuild TensorFlow with the appropriate compiler flags.\n"
     ]
    }
   ],
   "source": [
    "# Import necessary libraries\n",
    "import pandas as pd\n",
    "import numpy as np\n",
    "import matplotlib.pyplot as plt\n",
    "import seaborn as sns\n",
    "from collections import Counter\n",
    "\n",
    "# NLP libraries\n",
    "import nltk\n",
    "from nltk.corpus import stopwords\n",
    "from nltk.stem import WordNetLemmatizer\n",
    "from nltk.tokenize import RegexpTokenizer\n",
    "# nltk.download('punkt')\n",
    "# nltk.download('wordnet')\n",
    "# nltk.download('omw-1.4')\n",
    "# nltk.download('stopwords')\n",
    "\n",
    "# Neural Networks libraries\n",
    "import tensorflow as tf\n",
    "from tensorflow import keras\n",
    "from tensorflow.keras import layers\n",
    "\n",
    "# Outside Files\n",
    "import ngram_model as ngm"
   ]
  },
  {
   "cell_type": "markdown",
   "id": "0d09d989",
   "metadata": {},
   "source": [
    "### Getting data and text pre-processing "
   ]
  },
  {
   "cell_type": "code",
   "execution_count": 2,
   "id": "0ac92e3d",
   "metadata": {},
   "outputs": [],
   "source": [
    "# def train_embeddings(fname):\n",
    "#     # Pre-trained GloVe word embeddings\n",
    "#     embeddings_dict = {}\n",
    "#     with open(fname, 'r') as f:\n",
    "#         for line in f:\n",
    "#             values = line.split()\n",
    "#             word = values[0]\n",
    "#             vector = np.asarray(values[1:], \"float32\")\n",
    "#             embeddings_dict[word] = vector\n",
    "#     return embeddings_dict\n",
    "\n",
    "# Read file and get data\n",
    "def get_haiku_data(fname):\n",
    "    df = pd.read_csv(fname)\n",
    "    sentences = df['0'] + ' ' + df['1'] + ' ' + df['2'] + ' ' \n",
    "    data = [str(sentence).split() for sentence in sentences]\n",
    "    return data\n",
    "\n",
    "# lemmatizer\n",
    "lm = WordNetLemmatizer()\n",
    "\n",
    "def contains_special(word):\n",
    "    for char in word:\n",
    "        if char.isnumeric() or (not char.isalnum()):\n",
    "            return True\n",
    "    return False\n",
    "\n",
    "# process tokens\n",
    "def process_tokens(toks):\n",
    "    toks = [lm.lemmatize(word.lower()) for word in toks \n",
    "          # make sure no strings that contain only numeric characters \n",
    "          if not contains_special(word)]\n",
    "    return toks\n",
    "\n",
    "def read_haikus(data, ngram):\n",
    "    result = []\n",
    "    for sentences in data:\n",
    "        toks = nltk.word_tokenize(' '.join([word for word in sentences]))\n",
    "        processed = process_tokens(toks)\n",
    "        if len(processed) != 0:\n",
    "            processed = ['<h>'] * (ngram-1) + processed + ['</h>'] * (ngram-1)\n",
    "            result.append(processed)\n",
    "    return result"
   ]
  },
  {
   "cell_type": "code",
   "execution_count": 3,
   "id": "2668657d",
   "metadata": {},
   "outputs": [],
   "source": [
    "data = get_haiku_data('data/haiku/all_haiku.csv')\n",
    "# Get haikus data with trigram\n",
    "haikus = read_haikus(data, 3)\n",
    "# embeddings = train_embeddings('glove.6B/glove.6B.100d.txt')"
   ]
  },
  {
   "cell_type": "markdown",
   "id": "b20741bd",
   "metadata": {},
   "source": [
    "### Training word embeddings using Word2Vec"
   ]
  },
  {
   "cell_type": "code",
   "execution_count": 4,
   "id": "0c1a14b0",
   "metadata": {},
   "outputs": [
    {
     "name": "stdout",
     "output_type": "stream",
     "text": [
      "Vocab size 41376\n"
     ]
    }
   ],
   "source": [
    "from gensim.models import Word2Vec\n",
    "\n",
    "embedding_size = 200\n",
    "\n",
    "def train_embeddings(data):\n",
    "    return Word2Vec(sentences=haikus, vector_size=embedding_size, window=5, min_count=1, \n",
    "                 sg=1)\n",
    "    \n",
    "\n",
    "# Train the Word2Vec model from Gensim. \n",
    "word2vec_model = train_embeddings(haikus)\n",
    "vocab_size = len(word2vec_model.wv.index_to_key)\n",
    "print('Vocab size {}'.format(vocab_size))"
   ]
  },
  {
   "cell_type": "markdown",
   "id": "d9ec3d2f",
   "metadata": {},
   "source": [
    "# N-gram Language Model"
   ]
  },
  {
   "cell_type": "code",
   "execution_count": 5,
   "id": "0c41efb9",
   "metadata": {},
   "outputs": [],
   "source": [
    "# Find haikus that are similar\n",
    "def find_similar_haikus(haikus, inputs, embeddings):\n",
    "    \"\"\"Find haikus that contain words from the given inputs\n",
    "    Parameters:\n",
    "      haikus (list): list of list of processed haikus tokens\n",
    "      inputs (list): list of words to match\n",
    "      embeddings (Word2Vec): trained word embeddings\n",
    "\n",
    "    Returns:\n",
    "      list: list of list of processed haikus tokens that contain words from the given inputs\n",
    "    \"\"\"\n",
    "    similar_words = []\n",
    "    for word in inputs:\n",
    "        # Find top 5 similar words to current word\n",
    "        find_similar = [similar_words.append(w) for w,s in embeddings.wv.most_similar(word, topn=5)]\n",
    "    training_haikus = []\n",
    "    for haiku in haikus:\n",
    "        if any(word in haiku for word in similar_words):\n",
    "            training_haikus.append(haiku)\n",
    "    return [\" \".join(haiku) for haiku in training_haikus]"
   ]
  },
  {
   "cell_type": "code",
   "execution_count": 6,
   "id": "c8e45dad",
   "metadata": {},
   "outputs": [
    {
     "name": "stdout",
     "output_type": "stream",
     "text": [
      " he wa fun to a\n",
      " the hockey tonight for you\n",
      " no good luck at a\n",
      "\n",
      "\n",
      " alright with these\n",
      " baker mayfield is like it\n",
      " i watching that the\n",
      "\n",
      "\n",
      " hockey game tonight\n",
      " breaking a hockey team in\n",
      " football late and im\n",
      "\n",
      "\n",
      " i need someone\n",
      " what they get the packer wo\n",
      " how i wa going so\n",
      "\n",
      "\n",
      " yes sunday filled\n",
      " im taking the panther best\n",
      " it friday night they\n",
      "\n",
      "\n"
     ]
    }
   ],
   "source": [
    "similar_haikus = find_similar_haikus(haikus, ['basketball'], word2vec_model)\n",
    "\n",
    "# Define new N-gram Language Model object\n",
    "ngram_lm = ngm.LanguageModel(2, True, line_begin=\"<\" + \"h\" + \">\", line_end=\"</\" + \"h\" + \">\")\n",
    "# Training the model with haikus similar to inputs\n",
    "ngram_lm.train(similar_haikus)\n",
    "\n",
    "for haiku in ngram_lm.generate_haiku(5):\n",
    "    for line in haiku:\n",
    "        print(line)\n",
    "    print('\\n')"
   ]
  },
  {
   "cell_type": "markdown",
   "id": "45efebee",
   "metadata": {},
   "source": [
    "# Recurrent Neural Networks (LSTMs)"
   ]
  },
  {
   "cell_type": "code",
   "execution_count": 7,
   "id": "1d86dbca",
   "metadata": {},
   "outputs": [],
   "source": [
    "def read_embeddings(model, tokenizer):\n",
    "    '''Loads and parses embeddings trained in earlier.\n",
    "    Parameters and return values are up to you.\n",
    "    '''\n",
    "    vocab = list(model.wv.index_to_key)\n",
    "    word_to_index = tokenizer.word_index\n",
    "\n",
    "    word_to_embedding = {}\n",
    "    index_to_embedding = {}\n",
    "\n",
    "    for word in vocab:\n",
    "        embedding = model.wv[word]\n",
    "        word_to_embedding[word] = embedding\n",
    "        index_to_embedding[word_to_index[word]] = embedding\n",
    "    return word_to_embedding, index_to_embedding\n",
    "\n",
    "def data_generator(X: list, y: list, num_sequences_per_batch: int, vocab_size: int, index_to_embedding: dict) -> (list,list):\n",
    "    '''\n",
    "    Returns data generator to be used by feed_forward\n",
    "    https://wiki.python.org/moin/Generators\n",
    "    https://realpython.com/introduction-to-python-generators/\n",
    "    \n",
    "    Yields batches of embeddings and labels to go with them.\n",
    "    Use one hot vectors to encode the labels \n",
    "    (see the to_categorical function)\n",
    "    \n",
    "    '''\n",
    "    # inputs\n",
    "    i = 0\n",
    "    while i < len(X):\n",
    "        end_index = i + num_sequences_per_batch\n",
    "        # if we ran out of data\n",
    "        if end_index >= len(X):\n",
    "            i = 0\n",
    "            end_index = i + num_sequences_per_batch\n",
    "        # flatten/concatenate embeddings\n",
    "        inputs = [val for val in X[i:end_index]]\n",
    "        print(np.array(inputs).shape)\n",
    "        # outputs into one hot encoding\n",
    "        outputs = [to_categorical(val, vocab_size, dtype = 'int32') for val in y[i:end_index]]\n",
    "        print(np.array(outputs).shape)\n",
    "        yield np.array(inputs), np.array(outputs)\n",
    "        i += num_sequences_per_batch\n"
   ]
  },
  {
   "cell_type": "code",
   "execution_count": 8,
   "id": "65a39c1a",
   "metadata": {},
   "outputs": [],
   "source": [
    "from tensorflow.keras.preprocessing.sequence import pad_sequences\n",
    "from keras.preprocessing.text import Tokenizer\n",
    "\n",
    "tokenizer = Tokenizer()\n",
    "tokenizer.fit_on_texts(haikus)\n",
    "# Encode words into index\n",
    "encoded = tokenizer.texts_to_sequences(haikus)\n",
    "\n",
    "# Making sure we have same sequence length for LSTM\n",
    "max_seq_length = max([len(sequence) for sequence in encoded])\n",
    "encoded = pad_sequences(encoded, maxlen=max_seq_length, padding='post')"
   ]
  },
  {
   "cell_type": "code",
   "execution_count": 9,
   "id": "a00df05b",
   "metadata": {},
   "outputs": [],
   "source": [
    "# Embeddings\n",
    "word_to_embedding, index_to_embedding = read_embeddings(word2vec_model, tokenizer)\n",
    "# Embedding for zero index\n",
    "index_to_embedding[0] = np.zeros((embedding_size,))\n",
    "vocab_size = len(word_to_embedding.keys())"
   ]
  },
  {
   "cell_type": "code",
   "execution_count": null,
   "id": "991c04d6",
   "metadata": {},
   "outputs": [],
   "source": [
    "X = encoded[:, :-1]\n",
    "\n",
    "\n",
    "# Convert X into 3D (num_instances, sequence length, embedding_size)\n",
    "\n",
    "# X = np.zeros((X_encoded.shape[0], X_encoded.shape[1], embedding_size))\n",
    "# for i in range(X_encoded.shape[0]):\n",
    "#     for j in range(X_encoded.shape[1]):\n",
    "#         word = X_encoded[i,j]\n",
    "#         X[i, j, :] = index_to_embedding[word]\n",
    "\n",
    "y = [val[-1] for val in encoded]"
   ]
  },
  {
   "cell_type": "code",
   "execution_count": null,
   "id": "62caaceb",
   "metadata": {},
   "outputs": [],
   "source": [
    "# Start training the model\n",
    "# X = np.array(X).astype(np.float32)\n",
    "# y = np.array(y).astype(np.float32)\n",
    "\n",
    "# hyperparameters\n",
    "hidden_units = 100\n",
    "num_epochs = 5\n",
    "num_sequences_per_batch = 128\n",
    "steps_per_epoch = len(X)//num_sequences_per_batch\n",
    "\n",
    "# # input/output dimensions\n",
    "# input_dim = (NGRAM - 1) * EMBEDDINGS_SIZE\n",
    "# output_dim = vocab_size\n",
    "\n",
    "# Data generator\n",
    "train_generator = data_generator(X, y, num_sequences_per_batch, vocab_size, index_to_embedding)\n",
    "\n",
    "model = Sequential()\n",
    "model.add(LSTM(512, input_shape=(max_seq_length - 1, embedding_size),return_sequences=True))\n",
    "# Fully connected layer\n",
    "model.add(Dense(64, activation='relu'))\n",
    "model.add(Dense(vocab_size, activation='softmax'))\n",
    "model.compile(loss='categorical_crossentropy', optimizer='adam', metrics=['accuracy'])\n",
    "model.summary()\n",
    "\n",
    "# model = Sequential\n",
    "# ,pde;l\n",
    "# # hidden layer -- same number of hidden units as above\n",
    "# model.add(Dense(units= hidden_units, activation='relu', input_dim = input_dim))\n",
    "# # output layer\n",
    "# model.add(Dense(units= output_dim, activation='softmax'))\n",
    "# #optimizer\n",
    "# optimizer = Adam()\n",
    "# # configure the learning process\n",
    "# model.compile(loss='categorical_crossentropy',\n",
    "#               optimizer=optimizer,\n",
    "#               metrics=['accuracy'])\n",
    "\n",
    "print(model.output)\n",
    "model.fit(x = train_generator,\n",
    "          steps_per_epoch=steps_per_epoch,\n",
    "          epochs=num_epochs)\n",
    "\n",
    "print(model.output)"
   ]
  },
  {
   "cell_type": "code",
   "execution_count": null,
   "id": "7298f781",
   "metadata": {},
   "outputs": [],
   "source": []
  }
 ],
 "metadata": {
  "kernelspec": {
   "display_name": "Python 3 (ipykernel)",
   "language": "python",
   "name": "python3"
  },
  "language_info": {
   "codemirror_mode": {
    "name": "ipython",
    "version": 3
   },
   "file_extension": ".py",
   "mimetype": "text/x-python",
   "name": "python",
   "nbconvert_exporter": "python",
   "pygments_lexer": "ipython3",
   "version": "3.10.10"
  }
 },
 "nbformat": 4,
 "nbformat_minor": 5
}
