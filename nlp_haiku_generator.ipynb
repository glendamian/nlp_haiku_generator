{
 "cells": [
  {
   "cell_type": "markdown",
   "id": "098d1fd6",
   "metadata": {},
   "source": [
    "# DS 4400 Final Project : Haiku Generator\n",
    "\n",
    "#### Ben Tunney, Glen Damian Lim\n",
    "\n",
    "#### Datasets : https://www.kaggle.com/datasets/hjhalani30/haiku-dataset (English haikus)\n",
    "\n",
    "#### Word Embeddings: GloVe from https://nlp.stanford.edu/projects/glove/ (choose Wikipedia 2014 + Gigaword 5)\n",
    "\n",
    "#### NLP models: N-gram Language Model, Recurrent Neural Network, Transformers"
   ]
  },
  {
   "cell_type": "code",
   "execution_count": 1,
   "id": "1620bfc0",
   "metadata": {},
   "outputs": [
    {
     "name": "stderr",
     "output_type": "stream",
     "text": [
      "2023-04-17 20:27:44.587560: I tensorflow/core/platform/cpu_feature_guard.cc:182] This TensorFlow binary is optimized to use available CPU instructions in performance-critical operations.\n",
      "To enable the following instructions: SSE4.1 SSE4.2, in other operations, rebuild TensorFlow with the appropriate compiler flags.\n"
     ]
    }
   ],
   "source": [
    "# Import necessary libraries\n",
    "import pandas as pd\n",
    "import numpy as np\n",
    "import matplotlib.pyplot as plt\n",
    "import seaborn as sns\n",
    "from collections import Counter\n",
    "\n",
    "# NLP libraries\n",
    "import nltk\n",
    "from nltk.corpus import stopwords\n",
    "from nltk.stem import WordNetLemmatizer\n",
    "from nltk.tokenize import RegexpTokenizer\n",
    "# nltk.download('punkt')\n",
    "# nltk.download('wordnet')\n",
    "# nltk.download('omw-1.4')\n",
    "# nltk.download('stopwords')\n",
    "\n",
    "# Neural Networks libraries\n",
    "import tensorflow as tf\n",
    "from tensorflow import keras\n",
    "from tensorflow.keras import layers\n",
    "\n",
    "# Outside Files\n",
    "import ngram_model as ngm"
   ]
  },
  {
   "cell_type": "markdown",
   "id": "0d09d989",
   "metadata": {},
   "source": [
    "### Getting data and text pre-processing "
   ]
  },
  {
   "cell_type": "code",
   "execution_count": 2,
   "id": "0ac92e3d",
   "metadata": {},
   "outputs": [],
   "source": [
    "# def train_embeddings(fname):\n",
    "#     # Pre-trained GloVe word embeddings\n",
    "#     embeddings_dict = {}\n",
    "#     with open(fname, 'r') as f:\n",
    "#         for line in f:\n",
    "#             values = line.split()\n",
    "#             word = values[0]\n",
    "#             vector = np.asarray(values[1:], \"float32\")\n",
    "#             embeddings_dict[word] = vector\n",
    "#     return embeddings_dict\n",
    "\n",
    "# Read file and get data\n",
    "def get_haiku_data(fname):\n",
    "    df = pd.read_csv(fname)\n",
    "    sentences = df['0'] + ' ' + df['1'] + ' ' + df['2'] + ' ' \n",
    "    data = [str(sentence).split() for sentence in sentences]\n",
    "    return data\n",
    "\n",
    "# lemmatizer\n",
    "lm = WordNetLemmatizer()\n",
    "\n",
    "def contains_special(word):\n",
    "    for char in word:\n",
    "        if char.isnumeric() or (not char.isalnum()):\n",
    "            return True\n",
    "    return False\n",
    "\n",
    "# process tokens\n",
    "def process_tokens(toks):\n",
    "    toks = [lm.lemmatize(word.lower()) for word in toks \n",
    "          # make sure no strings that contain only numeric characters \n",
    "          if not contains_special(word)]\n",
    "    return toks\n",
    "\n",
    "def read_haikus(data, ngram):\n",
    "    result = []\n",
    "    for sentences in data:\n",
    "        toks = nltk.word_tokenize(' '.join([word for word in sentences]))\n",
    "        processed = process_tokens(toks)\n",
    "        if len(processed) != 0:\n",
    "            processed = ['<h>'] * (ngram-1) + processed + ['</h>'] * (ngram-1)\n",
    "            result.append(processed)\n",
    "    return result"
   ]
  },
  {
   "cell_type": "code",
   "execution_count": 3,
   "id": "2668657d",
   "metadata": {},
   "outputs": [],
   "source": [
    "data = get_haiku_data('data/haiku/all_haiku.csv')\n",
    "# Get haikus data with trigram\n",
    "haikus = read_haikus(data, 3)\n",
    "# embeddings = train_embeddings('glove.6B/glove.6B.100d.txt')"
   ]
  },
  {
   "cell_type": "markdown",
   "id": "b20741bd",
   "metadata": {},
   "source": [
    "### Training word embeddings using Word2Vec"
   ]
  },
  {
   "cell_type": "code",
   "execution_count": 4,
   "id": "0c1a14b0",
   "metadata": {},
   "outputs": [
    {
     "name": "stdout",
     "output_type": "stream",
     "text": [
      "Vocab size 41376\n"
     ]
    }
   ],
   "source": [
    "from gensim.models import Word2Vec\n",
    "\n",
    "def train_embeddings(data):\n",
    "    return Word2Vec(sentences=haikus, vector_size=200, window=5, min_count=1, \n",
    "                 sg=1)\n",
    "    \n",
    "\n",
    "# Train the Word2Vec model from Gensim. \n",
    "word2vec_model = train_embeddings(haikus)\n",
    "vocab_size = len(word2vec_model.wv.index_to_key)\n",
    "print('Vocab size {}'.format(vocab_size))"
   ]
  },
  {
   "cell_type": "markdown",
   "id": "d9ec3d2f",
   "metadata": {},
   "source": [
    "# N-gram Language Model"
   ]
  },
  {
   "cell_type": "code",
   "execution_count": 5,
   "id": "0c41efb9",
   "metadata": {},
   "outputs": [],
   "source": [
    "# Find haikus that are similar\n",
    "def find_similar_haikus(haikus, inputs, embeddings):\n",
    "    \"\"\"Find haikus that contain words from the given inputs\n",
    "    Parameters:\n",
    "      haikus (list): list of list of processed haikus tokens\n",
    "      inputs (list): list of words to match\n",
    "      embeddings (Word2Vec): trained word embeddings\n",
    "\n",
    "    Returns:\n",
    "      list: list of list of processed haikus tokens that contain words from the given inputs\n",
    "    \"\"\"\n",
    "    similar_words = []\n",
    "    for word in inputs:\n",
    "        # Find top 5 similar words to current word\n",
    "        find_similar = [similar_words.append(w) for w,s in embeddings.wv.most_similar(word, topn=5)]\n",
    "    training_haikus = []\n",
    "    for haiku in haikus:\n",
    "        if any(word in haiku for word in similar_words):\n",
    "            training_haikus.append(haiku)\n",
    "    return [\" \".join(haiku) for haiku in training_haikus]"
   ]
  },
  {
   "cell_type": "code",
   "execution_count": 12,
   "id": "c8e45dad",
   "metadata": {},
   "outputs": [
    {
     "name": "stdout",
     "output_type": "stream",
     "text": [
      " great woman hockey\n",
      " it still getting to be hard\n",
      " i a touchdown then\n",
      "\n",
      "\n",
      " brown getting nba now\n",
      " football is my child football\n",
      " meaningless hockey\n",
      "\n",
      "\n",
      " i honestly just\n",
      " join u work and tell me wan\n",
      " the pat steelers next\n",
      "\n",
      "\n",
      " ariza the most\n",
      " hockey in football is in\n",
      " one more fun day\n",
      "\n",
      "\n",
      " i could do want now\n",
      " in a good thing in celtic\n",
      " football celtic in\n",
      "\n",
      "\n"
     ]
    }
   ],
   "source": [
    "similar_haikus = find_similar_haikus(haikus, ['basketball'], word2vec_model)\n",
    "\n",
    "# Define new N-gram Language Model object\n",
    "ngram_lm = ngm.LanguageModel(2, True, line_begin=\"<\" + \"h\" + \">\", line_end=\"</\" + \"h\" + \">\")\n",
    "# Training the model with haikus similar to inputs\n",
    "ngram_lm.train(similar_haikus)\n",
    "\n",
    "for haiku in ngram_lm.generate_haiku(5):\n",
    "    for line in haiku:\n",
    "        print(line)\n",
    "    print('\\n')"
   ]
  },
  {
   "cell_type": "code",
   "execution_count": null,
   "id": "1d86dbca",
   "metadata": {},
   "outputs": [],
   "source": []
  }
 ],
 "metadata": {
  "kernelspec": {
   "display_name": "Python 3 (ipykernel)",
   "language": "python",
   "name": "python3"
  },
  "language_info": {
   "codemirror_mode": {
    "name": "ipython",
    "version": 3
   },
   "file_extension": ".py",
   "mimetype": "text/x-python",
   "name": "python",
   "nbconvert_exporter": "python",
   "pygments_lexer": "ipython3",
   "version": "3.10.10"
  }
 },
 "nbformat": 4,
 "nbformat_minor": 5
}
